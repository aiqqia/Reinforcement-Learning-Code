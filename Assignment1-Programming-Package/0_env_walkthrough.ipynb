{
 "cells": [
  {
   "cell_type": "markdown",
   "id": "e9e22cb54ff4a3a3",
   "metadata": {},
   "source": [
    "# Elevator Walkthrough\n",
    "\n",
    "This notebook will walk you through the elevator environment to understand the operation logic for the task.\n",
    "\n",
    "Please **NOTE** the following programming problems may have slight modifications from this walk-through environment."
   ]
  },
  {
   "cell_type": "code",
   "execution_count": 1,
   "id": "eb2c1c9c7bca18bc",
   "metadata": {
    "ExecuteTime": {
     "end_time": "2024-09-03T15:33:38.104856Z",
     "start_time": "2024-09-03T15:33:37.967559Z"
    }
   },
   "outputs": [],
   "source": [
    "from EleEnv.Envs import EleEnv\n",
    "from EleEnv.configs import *"
   ]
  },
  {
   "cell_type": "markdown",
   "id": "1033e3ca8a4ccce8",
   "metadata": {},
   "source": [
    "## Elevator Environment\n",
    "\n",
    "The elevator domain models evening rush hours when people from different floors in a building want to go down to the bottom floor using elevators. To simplify, we consider there is **ONLY ONE** elevator in the building. The building has $L$ floors, the bottom floor is the ground floor *level 0*, the top floor is *level L-1*. The elevator can be at any floor, and it can move up and down. However, the elevator is very small, it can only take at most **ONE** passenger in it! (They definitely want to upgrade the building).\n",
    "\n",
    "We model the rules of the elevator as follows:\n",
    "1. Initially, the elevator is at the ground floor $l_0$, with the door closed.\n",
    "2. There will be some passengers waiting at some levels initially, which will be given by configurations.\n",
    "3. The door of the elevator can be open or closed, however, it can only move with the door closed.\n",
    "4. The elevator can only load or unload one passenger when the door is open.\n",
    "5. The people waiting at each level will be shown like a list with length `L`.\n",
    "6. The elevator is very small, so it can at most hold at most **ONE** passenger!\n",
    "7. The goal for each task is to make all passengers reach the bottom floor."
   ]
  },
  {
   "cell_type": "markdown",
   "id": "7d9f69577eaccd47",
   "metadata": {},
   "source": [
    "## Environment Initialization\n",
    "\n",
    "An instance of the elevator environment can be created by calling the `EleEnv` class, identified by a configuration dictionary. We have provided a few example configurations in the `EleEnv.configs`, in assignment evaluation, there will be hidden configurations.\n",
    "\n",
    "In the following example, we consider a building with 3 floors, i.e., $l_0, l_1, l_2$, there is one passenger waiting at level 2."
   ]
  },
  {
   "cell_type": "code",
   "execution_count": 2,
   "id": "225a860b22c01d65",
   "metadata": {
    "ExecuteTime": {
     "end_time": "2024-09-03T15:33:49.171702Z",
     "start_time": "2024-09-03T15:33:49.168936Z"
    }
   },
   "outputs": [],
   "source": [
    "env = EleEnv(env_config=task_1_config)"
   ]
  },
  {
   "cell_type": "markdown",
   "id": "b686f1fbe512ab72",
   "metadata": {},
   "source": [
    "### State Space\n",
    "\n",
    "Each state is a dictionary with the following keys:\n",
    "\n",
    "- `elevator_current_level`: the current level of the elevator.\n",
    "- `elevator_door`: can be `'Open'` or `'Close'`\n",
    "- `elevator_empty`: can be `Empty` or `Not Empty`\n",
    "- `people_at_each_level`: a list with length $L$, indicating how many people are waiting at each floor, **from bottom to top**.\n",
    "\n",
    "### Action Space\n",
    "\n",
    "We consider six actions for the elevator:\n",
    "\n",
    "- action `0`: open door.\n",
    "- action `1`: close door to be ready to move.\n",
    "- action `2`: let people in.\n",
    "- action `3`: let people out.\n",
    "- action `4`: move up for one level.\n",
    "- action `5`: move down for one level.\n",
    "\n",
    "The action space can be accessed by `env.action_space()`."
   ]
  },
  {
   "cell_type": "code",
   "execution_count": 3,
   "id": "d1631e78039fc00d",
   "metadata": {
    "ExecuteTime": {
     "end_time": "2024-09-03T15:33:50.148239Z",
     "start_time": "2024-09-03T15:33:50.144873Z"
    }
   },
   "outputs": [
    {
     "name": "stdout",
     "output_type": "stream",
     "text": [
      "The action space is:\n",
      "{0: 'open door', 1: 'close door to go', 2: 'let people in', 3: 'let people out', 4: 'go up one level', 5: 'go down one level'}\n"
     ]
    }
   ],
   "source": [
    "action_space = env.action_space()\n",
    "\n",
    "print(f\"The action space is:\\n{action_space}\")"
   ]
  },
  {
   "cell_type": "markdown",
   "id": "98eb70766b5036eb",
   "metadata": {},
   "source": [
    "## Example Walkthrough\n",
    "\n",
    "Each environment should be reset using `env.reset()` before interacting with it, it will return the initial state."
   ]
  },
  {
   "cell_type": "code",
   "execution_count": 4,
   "id": "71536351cc9440da",
   "metadata": {
    "ExecuteTime": {
     "end_time": "2024-09-03T15:33:51.354182Z",
     "start_time": "2024-09-03T15:33:51.351016Z"
    }
   },
   "outputs": [
    {
     "name": "stdout",
     "output_type": "stream",
     "text": [
      "Initial state:\n",
      "{'elevator_current_level': 0, 'elevator_door': 'Close', 'elevator_empty': 'Empty', 'people_at_each_level': [0, 0, 1]}\n"
     ]
    }
   ],
   "source": [
    "s_0 = env.reset()\n",
    "\n",
    "print(f\"Initial state:\\n{s_0}\")"
   ]
  },
  {
   "cell_type": "markdown",
   "id": "494dda5634ff3d23",
   "metadata": {},
   "source": [
    "You can always render the current state by calling `env.render()`."
   ]
  },
  {
   "cell_type": "code",
   "execution_count": 6,
   "id": "9496b583d0cee0ad",
   "metadata": {
    "ExecuteTime": {
     "end_time": "2024-09-03T15:33:52.760971Z",
     "start_time": "2024-09-03T15:33:52.757476Z"
    }
   },
   "outputs": [
    {
     "name": "stdout",
     "output_type": "stream",
     "text": [
      "Level 2\t\t~~~~~~\t\t1\n",
      "Level 1\t\t~~~~~~\t\t0\n",
      "Level 0\t\tEC[0]\t\t0\n"
     ]
    }
   ],
   "source": [
    "env.render()"
   ]
  },
  {
   "cell_type": "markdown",
   "id": "74ddcc34c3c6b2a",
   "metadata": {},
   "source": [
    "To interact with the environment, using the `env.step(action)` method, it will return the following:\n",
    "- `state`: the next state after taking the action.\n",
    "- `reward`: the reward of taking the action.\n",
    "- `done`: whether the episode is finished.\n",
    "- `info`: additional information.\n",
    "\n",
    "Let's test the following actions:\n",
    "\n",
    "1. Go up one level: `4`.\n",
    "2. Go up one level: `4`.\n",
    "3. Let the passenger in the elevator: `2`: however, as the door is closed, you'll see the state won't change.\n",
    "4. Open door: `0`.\n",
    "5. Let the passenger in the elevator: `2`.\n",
    "6. Go down one level: `5`: As the door is open, the elevator cannot move, you'll see the state won't change.\n",
    "7. Close door: `1`.\n",
    "8. Go down one level: `5`.\n",
    "9. Go down one level: `5`.\n",
    "10. Open door: `0`.\n",
    "11. Let the passenger out the elevator: `3`: then all passengers (actually only one) will leave the elevator, you will receive a reward $1$ and the task is finished indicated by `done=True`."
   ]
  },
  {
   "cell_type": "code",
   "execution_count": 6,
   "id": "45b2c207b17ac5d1",
   "metadata": {
    "ExecuteTime": {
     "end_time": "2024-09-03T15:33:54.114081Z",
     "start_time": "2024-09-03T15:33:54.108845Z"
    }
   },
   "outputs": [
    {
     "name": "stdout",
     "output_type": "stream",
     "text": [
      "action : go up one level\n",
      "Level 2\t\t~~~~~~\t\t1\n",
      "Level 1\t\tEC[0]\t\t0\n",
      "Level 0\t\t~~~~~~\t\t0\n",
      "reward = 0, done = False\n",
      "\n",
      "----------\n",
      "\n",
      "action : go up one level\n",
      "Level 2\t\tEC[0]\t\t1\n",
      "Level 1\t\t~~~~~~\t\t0\n",
      "Level 0\t\t~~~~~~\t\t0\n",
      "reward = 0, done = False\n",
      "\n",
      "----------\n",
      "\n",
      "action : let people in\n",
      "Level 2\t\tEC[0]\t\t1\n",
      "Level 1\t\t~~~~~~\t\t0\n",
      "Level 0\t\t~~~~~~\t\t0\n",
      "reward = 0, done = False\n",
      "\n",
      "----------\n",
      "\n",
      "action : open door\n",
      "Level 2\t\tEO[0]\t\t1\n",
      "Level 1\t\t~~~~~~\t\t0\n",
      "Level 0\t\t~~~~~~\t\t0\n",
      "reward = 0, done = False\n",
      "\n",
      "----------\n",
      "\n",
      "action : let people in\n",
      "Level 2\t\tEO[1]\t\t0\n",
      "Level 1\t\t~~~~~~\t\t0\n",
      "Level 0\t\t~~~~~~\t\t0\n",
      "reward = 0, done = False\n",
      "\n",
      "----------\n",
      "\n",
      "action : go down one level\n",
      "Level 2\t\tEO[1]\t\t0\n",
      "Level 1\t\t~~~~~~\t\t0\n",
      "Level 0\t\t~~~~~~\t\t0\n",
      "reward = 0, done = False\n",
      "\n",
      "----------\n",
      "\n",
      "action : close door to go\n",
      "Level 2\t\tEC[1]\t\t0\n",
      "Level 1\t\t~~~~~~\t\t0\n",
      "Level 0\t\t~~~~~~\t\t0\n",
      "reward = 0, done = False\n",
      "\n",
      "----------\n",
      "\n",
      "action : go down one level\n",
      "Level 2\t\t~~~~~~\t\t0\n",
      "Level 1\t\tEC[1]\t\t0\n",
      "Level 0\t\t~~~~~~\t\t0\n",
      "reward = 0, done = False\n",
      "\n",
      "----------\n",
      "\n",
      "action : go down one level\n",
      "Level 2\t\t~~~~~~\t\t0\n",
      "Level 1\t\t~~~~~~\t\t0\n",
      "Level 0\t\tEC[1]\t\t0\n",
      "reward = 0, done = False\n",
      "\n",
      "----------\n",
      "\n",
      "action : open door\n",
      "Level 2\t\t~~~~~~\t\t0\n",
      "Level 1\t\t~~~~~~\t\t0\n",
      "Level 0\t\tEO[1]\t\t0\n",
      "reward = 0, done = False\n",
      "\n",
      "----------\n",
      "\n",
      "action : let people out\n",
      "Level 2\t\t~~~~~~\t\t0\n",
      "Level 1\t\t~~~~~~\t\t0\n",
      "Level 0\t\tEO[0]\t\t1\n",
      "reward = 1, done = True\n",
      "\n",
      "----------\n",
      "\n"
     ]
    }
   ],
   "source": [
    "actions = [4, 4, 2, 0, 2, 5, 1, 5, 5, 0, 3]\n",
    "\n",
    "for action in actions:\n",
    "    print(f\"action : {action_space[action]}\")\n",
    "    state, reward, done, info = env.step(action)\n",
    "    env.render()\n",
    "    print(f\"reward = {reward}, done = {done}\")\n",
    "    print(\"\\n----------\\n\")"
   ]
  },
  {
   "cell_type": "markdown",
   "id": "91fda4215b209ac0",
   "metadata": {},
   "source": [
    "## Conclusion\n",
    "\n",
    "After the walkthrough, you should have a basic understanding of the elevator environment. You can try different configurations and actions to test your algorithms.\n",
    "\n",
    "A configuration is a dictionary with two keys, here is the example:\n",
    "\n",
    "```\n",
    "task_1_config = {\"env_id\": \"Task-1\",\n",
    "                 \"env_map\": [0, 0, 1], }\n",
    "```"
   ]
  }
 ],
 "metadata": {
  "kernelspec": {
   "display_name": "Python 3",
   "language": "python",
   "name": "python3"
  },
  "language_info": {
   "codemirror_mode": {
    "name": "ipython",
    "version": 3
   },
   "file_extension": ".py",
   "mimetype": "text/x-python",
   "name": "python",
   "nbconvert_exporter": "python",
   "pygments_lexer": "ipython3",
   "version": "3.11.9"
  }
 },
 "nbformat": 4,
 "nbformat_minor": 5
}
